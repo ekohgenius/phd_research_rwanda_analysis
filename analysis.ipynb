{
 "cells": [
  {
   "cell_type": "markdown",
   "metadata": {},
   "source": [
    "# Analyzing factors that may affect electrification"
   ]
  },
  {
   "cell_type": "code",
   "execution_count": null,
   "metadata": {},
   "outputs": [],
   "source": [
    "def clip_tif_file(tif_file:str) -> gpd.GeoDataFrame:\n",
    "\n",
    "    \"\"\"\n",
    "    This function clips a tiff file into the boundary required (i.e. Rwanda) and returns a \n",
    "    geopandas dataframe.\n",
    "\n",
    "    Input:\n",
    "        - tif_file: String denoting path to tif file\n",
    "    Returns:\n",
    "        - geopandas.GeoDataFrame: GeoDataFrame containing the clipped raster data\n",
    "    \"\"\"\n",
    "\n",
    "    with rasterio.open(tif_file) as src:\n",
    "        # Read raster data and geometry\n",
    "        array = src.read(1)\n",
    "        transform = src.transform\n",
    "\n",
    "        # Open the boundary shapefile\n",
    "        boundary_gdf = gpd.read_file(get_admin_boundary(\"boundary\")[0])\n",
    "\n",
    "        # Make sure both GeoDataFrames have the same CRS\n",
    "        boundary_gdf = boundary_gdf.to_crs(src.crs)\n",
    "\n",
    "        # Create a bounding box that covers the extent of the raster\n",
    "        xmin, ymin, xmax, ymax = src.bounds\n",
    "        bbox = box(xmin, ymin, xmax, ymax)\n",
    "        bbox_gdf = gpd.GeoDataFrame(geometry=[bbox], crs=src.crs)\n",
    "\n",
    "        # Intersect the bounding box with the boundary shapefile\n",
    "        intersection = gpd.overlay(boundary_gdf, bbox_gdf, how='intersection')\n",
    "\n",
    "        # Clip the raster to the intersection geometry\n",
    "        clipped, transform = mask(src, shapes=intersection.geometry, crop=True)\n",
    "\n",
    "        # Create a GeoDataFrame directly from the clipped raster\n",
    "        shapes_gen = rasterio.features.shapes(clipped, transform=transform)\n",
    "        features = [{'geometry': geometry, 'properties': {'pixel_value': value}}\n",
    "                    for (geometry, value) in shapes_gen]\n",
    "        gdf_clipped = gpd.GeoDataFrame.from_features(features, crs=src.crs)\n",
    "\n",
    "        gdf_clipped = gdf_clipped.to_crs((\"EPSG:4326\"))\n",
    "\n",
    "    return gdf_clipped\n"
   ]
  },
  {
   "cell_type": "code",
   "execution_count": null,
   "metadata": {},
   "outputs": [],
   "source": [
    "def compute_administrative_metric(gdf: gpd.GeoDataFrame, admin_level: str) -> gpd.GeoDataFrame:\n",
    "    \"\"\"\n",
    "    This function takes in a geopandas dataframe of an index spread across pixels, \n",
    "    and localizes it to the region under study (i.e. sector, cell, or village).\n",
    "\n",
    "    Inputs:\n",
    "        - gdf: Geopandas Geodataframe containing the index being measured\n",
    "        - admin_level: This is just a string showing if the amin level is \n",
    "            sector, cell, or village\n",
    "        - admin_id: This is a string showing te unique identifier to an \n",
    "            admin region\n",
    "\n",
    "    Returns:\n",
    "        - gpd.GeoDataFrame with median calculations for \n",
    "\n",
    "    \"\"\"\n",
    "\n",
    "    # Get the file path and identifier for the specified admin level\n",
    "    admin_path, admin_id = get_admin_boundary(admin_level=admin_level)\n",
    "\n",
    "    # Read the admin shapefile\n",
    "    admin_shp = gpd.read_file(admin_path)\n",
    "    admin_shp = admin_shp.to_crs((\"EPSG:4326\"))\n",
    "\n",
    "    # Perform intersection between admin shapefile and the given GeoDataFrame\n",
    "    overlay = gpd.overlay(admin_shp, gdf, how=\"intersection\")\n",
    "\n",
    "    # Calculate median and retain the first geometry in case of multiple intersections\n",
    "    index_summary = overlay.groupby([admin_id]).agg({\n",
    "        \"pixel_value\": \"median\",\n",
    "        \"geometry\": \"first\" \n",
    "    }).reset_index()\n",
    "\n",
    "\n",
    "    # Index summary is joined to the initial admin_level file because by choosing first, it\n",
    "    # only chooses the first index of gdf in the admin region and not the entire region\n",
    "    index_summary = index_summary.loc[:, index_summary.columns != \"geometry\"].merge(\n",
    "                        admin_shp[[admin_id, \"geometry\"]], on = f\"{admin_id}\",\n",
    "                        suffixes=('_left', '_right'))\n",
    "    \n",
    "    index_summary = gpd.GeoDataFrame(index_summary, geometry=\"geometry\", crs=admin_shp.crs)\n",
    "\n",
    "\n",
    "    return index_summary"
   ]
  },
  {
   "cell_type": "code",
   "execution_count": null,
   "metadata": {},
   "outputs": [],
   "source": [
    "df_merge_cell = pd.merge(cell_asset_wealth_2020[[\"Cell_ID\", \"pixel_value\"]],\n",
    "                    cell_median_consumption_2020, left_on=\"Cell_ID\",\n",
    "                    right_on=\"administra\").drop(columns=[\"administra\"])\n",
    "df_merge_cell.columns = [\"cell_id\", \"asset_wealth_index\", \"consumption_2020\"]"
   ]
  },
  {
   "cell_type": "code",
   "execution_count": null,
   "metadata": {},
   "outputs": [],
   "source": [
    "# Create scatterplot\n",
    "sns.set_theme(style=\"ticks\", palette=\"pastel\")\n",
    "sns.set(font=\"Verdana\", font_scale=0.7,style=\"white\")\n",
    "sns.scatterplot(x='asset_wealth_index', y='consumption_2020', data=df_merge_cell, color = \"steelblue\", edgecolor = \"black\")\n",
    "sns.despine();\n",
    "plt.show()"
   ]
  }
 ],
 "metadata": {
  "kernelspec": {
   "display_name": "rwanda_env_geopandas",
   "language": "python",
   "name": "python3"
  },
  "language_info": {
   "codemirror_mode": {
    "name": "ipython",
    "version": 3
   },
   "file_extension": ".py",
   "mimetype": "text/x-python",
   "name": "python",
   "nbconvert_exporter": "python",
   "pygments_lexer": "ipython3",
   "version": "3.9.16"
  }
 },
 "nbformat": 4,
 "nbformat_minor": 2
}
