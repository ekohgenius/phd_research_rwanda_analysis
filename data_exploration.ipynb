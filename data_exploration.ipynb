{
 "cells": [
  {
   "cell_type": "markdown",
   "metadata": {},
   "source": [
    "# Exploring different data files to see what they look like"
   ]
  },
  {
   "cell_type": "code",
   "execution_count": 8,
   "metadata": {},
   "outputs": [],
   "source": [
    "import rasterio\n",
    "from rasterio.features import shapes\n",
    "import geopandas as gpd\n",
    "import pandas as pd\n",
    "import matplotlib.pyplot as plt"
   ]
  },
  {
   "cell_type": "markdown",
   "metadata": {},
   "source": [
    "### Exploring Atlas AI asset wealth file"
   ]
  },
  {
   "cell_type": "code",
   "execution_count": 13,
   "metadata": {},
   "outputs": [],
   "source": [
    "# Open file for Rwanda boundary to crop\n",
    "\n",
    "rwa_boundary = gpd.read_file(\"../data/locations/rwanda_boundary/RWA_adm0.shp\")"
   ]
  },
  {
   "cell_type": "code",
   "execution_count": 17,
   "metadata": {},
   "outputs": [
    {
     "name": "stdout",
     "output_type": "stream",
     "text": [
      "   ID_0  ISO NAME_ENGLI NAME_ISO NAME_FAO NAME_LOCAL  NAME_OBSOL  \\\n",
      "0   189  RWA     Rwanda   RWANDA   Rwanda     Rwanda         NaN   \n",
      "\n",
      "                          NAME_VARIA  NAME_NONLA NAME_FRENC  ... CARICOM   EU  \\\n",
      "0  Belgian East Africa|Ruanda-Urundi         NaN     Rwanda  ...     0.0  0.0   \n",
      "\n",
      "   CAN  ACP  Landlocked  AOSIS SIDS Islands  LDC  \\\n",
      "0  0.0  1.0         1.0    0.0  0.0     0.0  1.0   \n",
      "\n",
      "                                            geometry  \n",
      "0  POLYGON ((3389483.028 -116633.613, 3389504.685...  \n",
      "\n",
      "[1 rows x 68 columns]\n"
     ]
    }
   ],
   "source": [
    "import geopandas as gpd\n",
    "import rasterio\n",
    "from rasterio.mask import mask\n",
    "from shapely.geometry import box\n",
    "\n",
    "# Open the TIFF file\n",
    "tif_file = \"../data/atlas_ai_files/Rwanda_Asset-Wealth-1912m_0_08_RWA_2020.tif\"\n",
    "boundary_file = \"../data/locations/rwanda_boundary/RWA_adm0.shp\"\n",
    "\n",
    "with rasterio.open(tif_file) as src:\n",
    "    # Read raster data and geometry\n",
    "    array = src.read(1)\n",
    "    transform = src.transform\n",
    "\n",
    "    # Open the boundary shapefile\n",
    "    boundary_gdf = gpd.read_file(boundary_file)\n",
    "\n",
    "    # Make sure both GeoDataFrames have the same CRS\n",
    "    boundary_gdf = boundary_gdf.to_crs(src.crs)\n",
    "\n",
    "    # Create a bounding box that covers the extent of the raster\n",
    "    xmin, ymin, xmax, ymax = src.bounds\n",
    "    bbox = box(xmin, ymin, xmax, ymax)\n",
    "    bbox_gdf = gpd.GeoDataFrame(geometry=[bbox], crs=src.crs)\n",
    "\n",
    "    # Intersect the bounding box with the boundary shapefile\n",
    "    intersection = gpd.overlay(boundary_gdf, bbox_gdf, how='intersection')\n",
    "\n",
    "    # Clip the raster to the intersection geometry\n",
    "    clipped, transform = mask(src, shapes=intersection.geometry, crop=True)\n",
    "\n",
    "    # Update the metadata for the clipped raster\n",
    "    clipped_meta = src.meta.copy()\n",
    "    clipped_meta.update({\n",
    "        'height': clipped.shape[1],\n",
    "        'width': clipped.shape[2],\n",
    "        'transform': transform\n",
    "    })\n",
    "\n",
    "    # Save the clipped raster to a new TIFF file\n",
    "    clipped_tif_file = 'file.tif'\n",
    "    with rasterio.open(clipped_tif_file, 'w', **clipped_meta) as dst:\n",
    "        dst.write(clipped)\n",
    "\n",
    "# Print the clipped GeoDataFrame\n",
    "print(intersection)\n"
   ]
  },
  {
   "cell_type": "code",
   "execution_count": 20,
   "metadata": {},
   "outputs": [
    {
     "data": {
      "text/plain": [
       "Affine(1912.0, 0.0, 3214072.0,\n",
       "       0.0, -1912.0, -116632.0)"
      ]
     },
     "execution_count": 20,
     "metadata": {},
     "output_type": "execute_result"
    }
   ],
   "source": [
    "transform"
   ]
  },
  {
   "cell_type": "code",
   "execution_count": 27,
   "metadata": {},
   "outputs": [
    {
     "name": "stdout",
     "output_type": "stream",
     "text": [
      "                                               geometry   pixel_value\n",
      "0     POLYGON ((30.43550 -1.04766, 30.43550 -1.06484... -3.587138e-01\n",
      "1     POLYGON ((30.45267 -1.04766, 30.45267 -1.06484... -3.595239e-01\n",
      "2     POLYGON ((30.34962 -1.06484, 30.34962 -1.08201... -4.814316e-01\n",
      "3     POLYGON ((30.36679 -1.06484, 30.36679 -1.08201... -4.526857e-01\n",
      "4     POLYGON ((30.38397 -1.06484, 30.38397 -1.08201... -4.185151e-01\n",
      "...                                                 ...           ...\n",
      "6675  POLYGON ((29.37060 -2.81570, 29.37060 -2.83285... -5.126896e-01\n",
      "6676  POLYGON ((29.42213 -2.79854, 29.45648 -2.79854...  3.402823e+38\n",
      "6677  POLYGON ((29.50800 -2.81570, 29.50800 -2.83285... -1.502541e-01\n",
      "6678  POLYGON ((29.52518 -2.81570, 29.52518 -2.83285... -1.446368e-01\n",
      "6679  POLYGON ((30.86489 -2.11214, 30.88207 -2.11214...  3.402823e+38\n",
      "\n",
      "[6680 rows x 2 columns]\n"
     ]
    }
   ],
   "source": [
    "import geopandas as gpd\n",
    "import rasterio\n",
    "from rasterio.mask import mask\n",
    "from shapely.geometry import box\n",
    "\n",
    "# Open the TIFF file\n",
    "tif_file = \"../data/atlas_ai_files/Rwanda_Asset-Wealth-1912m_0_08_RWA_2020.tif\"\n",
    "boundary_file = \"../data/locations/sector/Sector.shp\"\n",
    "\n",
    "with rasterio.open(tif_file) as src:\n",
    "    # Read raster data and geometry\n",
    "    array = src.read(1)\n",
    "    transform = src.transform\n",
    "\n",
    "    # Open the boundary shapefile\n",
    "    boundary_gdf = gpd.read_file(boundary_file)\n",
    "\n",
    "    # Make sure both GeoDataFrames have the same CRS\n",
    "    boundary_gdf = boundary_gdf.to_crs(src.crs)\n",
    "\n",
    "    # Create a bounding box that covers the extent of the raster\n",
    "    xmin, ymin, xmax, ymax = src.bounds\n",
    "    bbox = box(xmin, ymin, xmax, ymax)\n",
    "    bbox_gdf = gpd.GeoDataFrame(geometry=[bbox], crs=src.crs)\n",
    "\n",
    "    # Intersect the bounding box with the boundary shapefile\n",
    "    intersection = gpd.overlay(boundary_gdf, bbox_gdf, how='intersection')\n",
    "\n",
    "    # Clip the raster to the intersection geometry\n",
    "    clipped, transform = mask(src, shapes=intersection.geometry, crop=True)\n",
    "\n",
    "    # Create a GeoDataFrame directly from the clipped raster\n",
    "    shapes_gen = rasterio.features.shapes(clipped, transform=transform)\n",
    "    features = [{'geometry': geometry, 'properties': {'pixel_value': value}}\n",
    "                for (geometry, value) in shapes_gen]\n",
    "    gdf_clipped = gpd.GeoDataFrame.from_features(features, crs=src.crs)\n",
    "\n",
    "    gdf_clipped = gdf_clipped.to_crs((\"EPSG:4326\"))\n",
    "\n",
    "# Print the GeoDataFrame with attribute table for the clipped TIFF file\n",
    "print(gdf_clipped)"
   ]
  },
  {
   "cell_type": "code",
   "execution_count": 28,
   "metadata": {},
   "outputs": [
    {
     "data": {
      "text/html": [
       "<div>\n",
       "<style scoped>\n",
       "    .dataframe tbody tr th:only-of-type {\n",
       "        vertical-align: middle;\n",
       "    }\n",
       "\n",
       "    .dataframe tbody tr th {\n",
       "        vertical-align: top;\n",
       "    }\n",
       "\n",
       "    .dataframe thead th {\n",
       "        text-align: right;\n",
       "    }\n",
       "</style>\n",
       "<table border=\"1\" class=\"dataframe\">\n",
       "  <thead>\n",
       "    <tr style=\"text-align: right;\">\n",
       "      <th></th>\n",
       "      <th>geometry</th>\n",
       "      <th>pixel_value</th>\n",
       "    </tr>\n",
       "  </thead>\n",
       "  <tbody>\n",
       "    <tr>\n",
       "      <th>0</th>\n",
       "      <td>POLYGON ((30.43550 -1.04766, 30.43550 -1.06484...</td>\n",
       "      <td>-0.358714</td>\n",
       "    </tr>\n",
       "    <tr>\n",
       "      <th>1</th>\n",
       "      <td>POLYGON ((30.45267 -1.04766, 30.45267 -1.06484...</td>\n",
       "      <td>-0.359524</td>\n",
       "    </tr>\n",
       "    <tr>\n",
       "      <th>2</th>\n",
       "      <td>POLYGON ((30.34962 -1.06484, 30.34962 -1.08201...</td>\n",
       "      <td>-0.481432</td>\n",
       "    </tr>\n",
       "    <tr>\n",
       "      <th>3</th>\n",
       "      <td>POLYGON ((30.36679 -1.06484, 30.36679 -1.08201...</td>\n",
       "      <td>-0.452686</td>\n",
       "    </tr>\n",
       "    <tr>\n",
       "      <th>4</th>\n",
       "      <td>POLYGON ((30.38397 -1.06484, 30.38397 -1.08201...</td>\n",
       "      <td>-0.418515</td>\n",
       "    </tr>\n",
       "  </tbody>\n",
       "</table>\n",
       "</div>"
      ],
      "text/plain": [
       "                                            geometry  pixel_value\n",
       "0  POLYGON ((30.43550 -1.04766, 30.43550 -1.06484...    -0.358714\n",
       "1  POLYGON ((30.45267 -1.04766, 30.45267 -1.06484...    -0.359524\n",
       "2  POLYGON ((30.34962 -1.06484, 30.34962 -1.08201...    -0.481432\n",
       "3  POLYGON ((30.36679 -1.06484, 30.36679 -1.08201...    -0.452686\n",
       "4  POLYGON ((30.38397 -1.06484, 30.38397 -1.08201...    -0.418515"
      ]
     },
     "execution_count": 28,
     "metadata": {},
     "output_type": "execute_result"
    }
   ],
   "source": [
    "gdf_clipped.head()"
   ]
  },
  {
   "cell_type": "code",
   "execution_count": null,
   "metadata": {},
   "outputs": [],
   "source": []
  }
 ],
 "metadata": {
  "kernelspec": {
   "display_name": "rwanda_env_geopandas",
   "language": "python",
   "name": "python3"
  },
  "language_info": {
   "codemirror_mode": {
    "name": "ipython",
    "version": 3
   },
   "file_extension": ".py",
   "mimetype": "text/x-python",
   "name": "python",
   "nbconvert_exporter": "python",
   "pygments_lexer": "ipython3",
   "version": "3.9.16"
  }
 },
 "nbformat": 4,
 "nbformat_minor": 2
}
